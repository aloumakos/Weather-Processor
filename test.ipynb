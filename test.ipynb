{
 "cells": [
  {
   "cell_type": "code",
   "execution_count": 29,
   "metadata": {},
   "outputs": [
    {
     "name": "stdout",
     "output_type": "stream",
     "text": [
      "gefs.20231111/06/atmos/pgrb2ap5/gec00.t06z.pgrb2a.0p50.f000\n",
      "gefs.20231111/06/atmos/pgrb2ap5/gec00.t06z.pgrb2a.0p50.f003\n",
      "gefs.20231111/06/atmos/pgrb2ap5/gec00.t06z.pgrb2a.0p50.f006\n",
      "gefs.20231111/06/atmos/pgrb2ap5/gec00.t06z.pgrb2a.0p50.f009\n",
      "gefs.20231111/06/atmos/pgrb2ap5/gec00.t06z.pgrb2a.0p50.f012\n",
      "gefs.20231111/06/atmos/pgrb2ap5/gec00.t06z.pgrb2a.0p50.f015\n",
      "gefs.20231111/06/atmos/pgrb2ap5/gec00.t06z.pgrb2a.0p50.f018\n",
      "gefs.20231111/06/atmos/pgrb2ap5/gec00.t06z.pgrb2a.0p50.f021\n",
      "gefs.20231111/06/atmos/pgrb2ap5/gec00.t06z.pgrb2a.0p50.f024\n"
     ]
    },
    {
     "name": "stderr",
     "output_type": "stream",
     "text": [
      "C:\\Users\\anton\\AppData\\Local\\Temp\\ipykernel_38096\\1531283826.py:72: FutureWarning: The default dtype for empty Series will be 'object' instead of 'float64' in a future version. Specify a dtype explicitly to silence this warning.\n",
      "  report_df = pd.DataFrame(dict([ (k,pd.Series(v)) for k,v in report_dict.items() ]))\n",
      "C:\\Users\\anton\\AppData\\Local\\Temp\\ipykernel_38096\\1531283826.py:72: FutureWarning: The default dtype for empty Series will be 'object' instead of 'float64' in a future version. Specify a dtype explicitly to silence this warning.\n",
      "  report_df = pd.DataFrame(dict([ (k,pd.Series(v)) for k,v in report_dict.items() ]))\n",
      "C:\\Users\\anton\\AppData\\Local\\Temp\\ipykernel_38096\\1531283826.py:72: FutureWarning: The default dtype for empty Series will be 'object' instead of 'float64' in a future version. Specify a dtype explicitly to silence this warning.\n",
      "  report_df = pd.DataFrame(dict([ (k,pd.Series(v)) for k,v in report_dict.items() ]))\n",
      "C:\\Users\\anton\\AppData\\Local\\Temp\\ipykernel_38096\\1531283826.py:72: FutureWarning: The default dtype for empty Series will be 'object' instead of 'float64' in a future version. Specify a dtype explicitly to silence this warning.\n",
      "  report_df = pd.DataFrame(dict([ (k,pd.Series(v)) for k,v in report_dict.items() ]))\n",
      "C:\\Users\\anton\\AppData\\Local\\Temp\\ipykernel_38096\\1531283826.py:72: FutureWarning: The default dtype for empty Series will be 'object' instead of 'float64' in a future version. Specify a dtype explicitly to silence this warning.\n",
      "  report_df = pd.DataFrame(dict([ (k,pd.Series(v)) for k,v in report_dict.items() ]))\n"
     ]
    },
    {
     "name": "stdout",
     "output_type": "stream",
     "text": [
      "gefs.20231111/06/atmos/pgrb2ap5/gec00.t06z.pgrb2a.0p50.f027\n",
      "gefs.20231111/06/atmos/pgrb2ap5/gec00.t06z.pgrb2a.0p50.f030\n",
      "gefs.20231111/06/atmos/pgrb2ap5/gec00.t06z.pgrb2a.0p50.f033\n",
      "gefs.20231111/06/atmos/pgrb2ap5/gec00.t06z.pgrb2a.0p50.f036\n",
      "gefs.20231111/06/atmos/pgrb2ap5/gec00.t06z.pgrb2a.0p50.f039\n",
      "gefs.20231111/06/atmos/pgrb2ap5/gec00.t06z.pgrb2a.0p50.f042\n",
      "gefs.20231111/06/atmos/pgrb2ap5/gec00.t06z.pgrb2a.0p50.f045\n",
      "gefs.20231111/06/atmos/pgrb2ap5/gec00.t06z.pgrb2a.0p50.f048\n"
     ]
    },
    {
     "name": "stderr",
     "output_type": "stream",
     "text": [
      "C:\\Users\\anton\\AppData\\Local\\Temp\\ipykernel_38096\\1531283826.py:72: FutureWarning: The default dtype for empty Series will be 'object' instead of 'float64' in a future version. Specify a dtype explicitly to silence this warning.\n",
      "  report_df = pd.DataFrame(dict([ (k,pd.Series(v)) for k,v in report_dict.items() ]))\n",
      "C:\\Users\\anton\\AppData\\Local\\Temp\\ipykernel_38096\\1531283826.py:72: FutureWarning: The default dtype for empty Series will be 'object' instead of 'float64' in a future version. Specify a dtype explicitly to silence this warning.\n",
      "  report_df = pd.DataFrame(dict([ (k,pd.Series(v)) for k,v in report_dict.items() ]))\n",
      "C:\\Users\\anton\\AppData\\Local\\Temp\\ipykernel_38096\\1531283826.py:72: FutureWarning: The default dtype for empty Series will be 'object' instead of 'float64' in a future version. Specify a dtype explicitly to silence this warning.\n",
      "  report_df = pd.DataFrame(dict([ (k,pd.Series(v)) for k,v in report_dict.items() ]))\n",
      "C:\\Users\\anton\\AppData\\Local\\Temp\\ipykernel_38096\\1531283826.py:72: FutureWarning: The default dtype for empty Series will be 'object' instead of 'float64' in a future version. Specify a dtype explicitly to silence this warning.\n",
      "  report_df = pd.DataFrame(dict([ (k,pd.Series(v)) for k,v in report_dict.items() ]))\n",
      "C:\\Users\\anton\\AppData\\Local\\Temp\\ipykernel_38096\\1531283826.py:72: FutureWarning: The default dtype for empty Series will be 'object' instead of 'float64' in a future version. Specify a dtype explicitly to silence this warning.\n",
      "  report_df = pd.DataFrame(dict([ (k,pd.Series(v)) for k,v in report_dict.items() ]))\n"
     ]
    },
    {
     "name": "stdout",
     "output_type": "stream",
     "text": [
      "gefs.20231111/06/atmos/pgrb2ap5/gec00.t06z.pgrb2a.0p50.f051\n",
      "gefs.20231111/06/atmos/pgrb2ap5/gec00.t06z.pgrb2a.0p50.f054\n",
      "gefs.20231111/06/atmos/pgrb2ap5/gec00.t06z.pgrb2a.0p50.f057\n",
      "gefs.20231111/06/atmos/pgrb2ap5/gec00.t06z.pgrb2a.0p50.f060\n",
      "gefs.20231111/06/atmos/pgrb2ap5/gec00.t06z.pgrb2a.0p50.f063\n",
      "gefs.20231111/06/atmos/pgrb2ap5/gec00.t06z.pgrb2a.0p50.f066\n",
      "gefs.20231111/06/atmos/pgrb2ap5/gec00.t06z.pgrb2a.0p50.f069\n",
      "gefs.20231111/06/atmos/pgrb2ap5/gec00.t06z.pgrb2a.0p50.f072\n"
     ]
    },
    {
     "name": "stderr",
     "output_type": "stream",
     "text": [
      "C:\\Users\\anton\\AppData\\Local\\Temp\\ipykernel_38096\\1531283826.py:72: FutureWarning: The default dtype for empty Series will be 'object' instead of 'float64' in a future version. Specify a dtype explicitly to silence this warning.\n",
      "  report_df = pd.DataFrame(dict([ (k,pd.Series(v)) for k,v in report_dict.items() ]))\n",
      "C:\\Users\\anton\\AppData\\Local\\Temp\\ipykernel_38096\\1531283826.py:72: FutureWarning: The default dtype for empty Series will be 'object' instead of 'float64' in a future version. Specify a dtype explicitly to silence this warning.\n",
      "  report_df = pd.DataFrame(dict([ (k,pd.Series(v)) for k,v in report_dict.items() ]))\n",
      "C:\\Users\\anton\\AppData\\Local\\Temp\\ipykernel_38096\\1531283826.py:72: FutureWarning: The default dtype for empty Series will be 'object' instead of 'float64' in a future version. Specify a dtype explicitly to silence this warning.\n",
      "  report_df = pd.DataFrame(dict([ (k,pd.Series(v)) for k,v in report_dict.items() ]))\n",
      "C:\\Users\\anton\\AppData\\Local\\Temp\\ipykernel_38096\\1531283826.py:72: FutureWarning: The default dtype for empty Series will be 'object' instead of 'float64' in a future version. Specify a dtype explicitly to silence this warning.\n",
      "  report_df = pd.DataFrame(dict([ (k,pd.Series(v)) for k,v in report_dict.items() ]))\n",
      "C:\\Users\\anton\\AppData\\Local\\Temp\\ipykernel_38096\\1531283826.py:72: FutureWarning: The default dtype for empty Series will be 'object' instead of 'float64' in a future version. Specify a dtype explicitly to silence this warning.\n",
      "  report_df = pd.DataFrame(dict([ (k,pd.Series(v)) for k,v in report_dict.items() ]))\n"
     ]
    },
    {
     "name": "stdout",
     "output_type": "stream",
     "text": [
      "gefs.20231111/06/atmos/pgrb2ap5/gec00.t06z.pgrb2a.0p50.f075\n",
      "gefs.20231111/06/atmos/pgrb2ap5/gec00.t06z.pgrb2a.0p50.f078\n",
      "gefs.20231111/06/atmos/pgrb2ap5/gec00.t06z.pgrb2a.0p50.f081\n",
      "gefs.20231111/06/atmos/pgrb2ap5/gec00.t06z.pgrb2a.0p50.f084\n",
      "gefs.20231111/06/atmos/pgrb2ap5/gec00.t06z.pgrb2a.0p50.f087\n",
      "gefs.20231111/06/atmos/pgrb2ap5/gec00.t06z.pgrb2a.0p50.f090\n",
      "gefs.20231111/06/atmos/pgrb2ap5/gec00.t06z.pgrb2a.0p50.f093\n",
      "gefs.20231111/06/atmos/pgrb2ap5/gec00.t06z.pgrb2a.0p50.f096\n"
     ]
    },
    {
     "name": "stderr",
     "output_type": "stream",
     "text": [
      "C:\\Users\\anton\\AppData\\Local\\Temp\\ipykernel_38096\\1531283826.py:72: FutureWarning: The default dtype for empty Series will be 'object' instead of 'float64' in a future version. Specify a dtype explicitly to silence this warning.\n",
      "  report_df = pd.DataFrame(dict([ (k,pd.Series(v)) for k,v in report_dict.items() ]))\n",
      "C:\\Users\\anton\\AppData\\Local\\Temp\\ipykernel_38096\\1531283826.py:72: FutureWarning: The default dtype for empty Series will be 'object' instead of 'float64' in a future version. Specify a dtype explicitly to silence this warning.\n",
      "  report_df = pd.DataFrame(dict([ (k,pd.Series(v)) for k,v in report_dict.items() ]))\n",
      "C:\\Users\\anton\\AppData\\Local\\Temp\\ipykernel_38096\\1531283826.py:72: FutureWarning: The default dtype for empty Series will be 'object' instead of 'float64' in a future version. Specify a dtype explicitly to silence this warning.\n",
      "  report_df = pd.DataFrame(dict([ (k,pd.Series(v)) for k,v in report_dict.items() ]))\n",
      "C:\\Users\\anton\\AppData\\Local\\Temp\\ipykernel_38096\\1531283826.py:72: FutureWarning: The default dtype for empty Series will be 'object' instead of 'float64' in a future version. Specify a dtype explicitly to silence this warning.\n",
      "  report_df = pd.DataFrame(dict([ (k,pd.Series(v)) for k,v in report_dict.items() ]))\n",
      "C:\\Users\\anton\\AppData\\Local\\Temp\\ipykernel_38096\\1531283826.py:72: FutureWarning: The default dtype for empty Series will be 'object' instead of 'float64' in a future version. Specify a dtype explicitly to silence this warning.\n",
      "  report_df = pd.DataFrame(dict([ (k,pd.Series(v)) for k,v in report_dict.items() ]))\n"
     ]
    },
    {
     "name": "stdout",
     "output_type": "stream",
     "text": [
      "gefs.20231111/06/atmos/pgrb2ap5/gec00.t06z.pgrb2a.0p50.f099\n",
      "gefs.20231111/06/atmos/pgrb2ap5/gec00.t06z.pgrb2a.0p50.f102\n",
      "gefs.20231111/06/atmos/pgrb2ap5/gec00.t06z.pgrb2a.0p50.f105\n",
      "gefs.20231111/06/atmos/pgrb2ap5/gec00.t06z.pgrb2a.0p50.f108\n",
      "gefs.20231111/06/atmos/pgrb2ap5/gec00.t06z.pgrb2a.0p50.f111\n",
      "gefs.20231111/06/atmos/pgrb2ap5/gec00.t06z.pgrb2a.0p50.f114\n",
      "gefs.20231111/06/atmos/pgrb2ap5/gec00.t06z.pgrb2a.0p50.f117\n",
      "gefs.20231111/06/atmos/pgrb2ap5/gec00.t06z.pgrb2a.0p50.f120\n"
     ]
    },
    {
     "name": "stderr",
     "output_type": "stream",
     "text": [
      "C:\\Users\\anton\\AppData\\Local\\Temp\\ipykernel_38096\\1531283826.py:72: FutureWarning: The default dtype for empty Series will be 'object' instead of 'float64' in a future version. Specify a dtype explicitly to silence this warning.\n",
      "  report_df = pd.DataFrame(dict([ (k,pd.Series(v)) for k,v in report_dict.items() ]))\n",
      "C:\\Users\\anton\\AppData\\Local\\Temp\\ipykernel_38096\\1531283826.py:72: FutureWarning: The default dtype for empty Series will be 'object' instead of 'float64' in a future version. Specify a dtype explicitly to silence this warning.\n",
      "  report_df = pd.DataFrame(dict([ (k,pd.Series(v)) for k,v in report_dict.items() ]))\n",
      "C:\\Users\\anton\\AppData\\Local\\Temp\\ipykernel_38096\\1531283826.py:72: FutureWarning: The default dtype for empty Series will be 'object' instead of 'float64' in a future version. Specify a dtype explicitly to silence this warning.\n",
      "  report_df = pd.DataFrame(dict([ (k,pd.Series(v)) for k,v in report_dict.items() ]))\n",
      "C:\\Users\\anton\\AppData\\Local\\Temp\\ipykernel_38096\\1531283826.py:72: FutureWarning: The default dtype for empty Series will be 'object' instead of 'float64' in a future version. Specify a dtype explicitly to silence this warning.\n",
      "  report_df = pd.DataFrame(dict([ (k,pd.Series(v)) for k,v in report_dict.items() ]))\n",
      "C:\\Users\\anton\\AppData\\Local\\Temp\\ipykernel_38096\\1531283826.py:72: FutureWarning: The default dtype for empty Series will be 'object' instead of 'float64' in a future version. Specify a dtype explicitly to silence this warning.\n",
      "  report_df = pd.DataFrame(dict([ (k,pd.Series(v)) for k,v in report_dict.items() ]))\n"
     ]
    },
    {
     "name": "stdout",
     "output_type": "stream",
     "text": [
      "gefs.20231111/06/atmos/pgrb2ap5/gec00.t06z.pgrb2a.0p50.f123\n",
      "gefs.20231111/06/atmos/pgrb2ap5/gec00.t06z.pgrb2a.0p50.f126\n",
      "gefs.20231111/06/atmos/pgrb2ap5/gec00.t06z.pgrb2a.0p50.f129\n",
      "gefs.20231111/06/atmos/pgrb2ap5/gec00.t06z.pgrb2a.0p50.f132\n",
      "gefs.20231111/06/atmos/pgrb2ap5/gec00.t06z.pgrb2a.0p50.f135\n",
      "gefs.20231111/06/atmos/pgrb2ap5/gec00.t06z.pgrb2a.0p50.f138\n",
      "gefs.20231111/06/atmos/pgrb2ap5/gec00.t06z.pgrb2a.0p50.f141\n",
      "gefs.20231111/06/atmos/pgrb2ap5/gec00.t06z.pgrb2a.0p50.f144\n"
     ]
    },
    {
     "name": "stderr",
     "output_type": "stream",
     "text": [
      "C:\\Users\\anton\\AppData\\Local\\Temp\\ipykernel_38096\\1531283826.py:72: FutureWarning: The default dtype for empty Series will be 'object' instead of 'float64' in a future version. Specify a dtype explicitly to silence this warning.\n",
      "  report_df = pd.DataFrame(dict([ (k,pd.Series(v)) for k,v in report_dict.items() ]))\n",
      "C:\\Users\\anton\\AppData\\Local\\Temp\\ipykernel_38096\\1531283826.py:72: FutureWarning: The default dtype for empty Series will be 'object' instead of 'float64' in a future version. Specify a dtype explicitly to silence this warning.\n",
      "  report_df = pd.DataFrame(dict([ (k,pd.Series(v)) for k,v in report_dict.items() ]))\n",
      "C:\\Users\\anton\\AppData\\Local\\Temp\\ipykernel_38096\\1531283826.py:72: FutureWarning: The default dtype for empty Series will be 'object' instead of 'float64' in a future version. Specify a dtype explicitly to silence this warning.\n",
      "  report_df = pd.DataFrame(dict([ (k,pd.Series(v)) for k,v in report_dict.items() ]))\n",
      "C:\\Users\\anton\\AppData\\Local\\Temp\\ipykernel_38096\\1531283826.py:72: FutureWarning: The default dtype for empty Series will be 'object' instead of 'float64' in a future version. Specify a dtype explicitly to silence this warning.\n",
      "  report_df = pd.DataFrame(dict([ (k,pd.Series(v)) for k,v in report_dict.items() ]))\n",
      "C:\\Users\\anton\\AppData\\Local\\Temp\\ipykernel_38096\\1531283826.py:72: FutureWarning: The default dtype for empty Series will be 'object' instead of 'float64' in a future version. Specify a dtype explicitly to silence this warning.\n",
      "  report_df = pd.DataFrame(dict([ (k,pd.Series(v)) for k,v in report_dict.items() ]))\n"
     ]
    },
    {
     "name": "stdout",
     "output_type": "stream",
     "text": [
      "gefs.20231111/06/atmos/pgrb2ap5/gec00.t06z.pgrb2a.0p50.f147\n",
      "gefs.20231111/06/atmos/pgrb2ap5/gec00.t06z.pgrb2a.0p50.f150\n",
      "gefs.20231111/06/atmos/pgrb2ap5/gec00.t06z.pgrb2a.0p50.f153\n",
      "gefs.20231111/06/atmos/pgrb2ap5/gec00.t06z.pgrb2a.0p50.f156\n",
      "gefs.20231111/06/atmos/pgrb2ap5/gec00.t06z.pgrb2a.0p50.f159\n",
      "gefs.20231111/06/atmos/pgrb2ap5/gec00.t06z.pgrb2a.0p50.f162\n",
      "gefs.20231111/06/atmos/pgrb2ap5/gec00.t06z.pgrb2a.0p50.f165\n",
      "gefs.20231111/06/atmos/pgrb2ap5/gec00.t06z.pgrb2a.0p50.f168\n"
     ]
    },
    {
     "name": "stderr",
     "output_type": "stream",
     "text": [
      "C:\\Users\\anton\\AppData\\Local\\Temp\\ipykernel_38096\\1531283826.py:72: FutureWarning: The default dtype for empty Series will be 'object' instead of 'float64' in a future version. Specify a dtype explicitly to silence this warning.\n",
      "  report_df = pd.DataFrame(dict([ (k,pd.Series(v)) for k,v in report_dict.items() ]))\n",
      "C:\\Users\\anton\\AppData\\Local\\Temp\\ipykernel_38096\\1531283826.py:72: FutureWarning: The default dtype for empty Series will be 'object' instead of 'float64' in a future version. Specify a dtype explicitly to silence this warning.\n",
      "  report_df = pd.DataFrame(dict([ (k,pd.Series(v)) for k,v in report_dict.items() ]))\n",
      "C:\\Users\\anton\\AppData\\Local\\Temp\\ipykernel_38096\\1531283826.py:72: FutureWarning: The default dtype for empty Series will be 'object' instead of 'float64' in a future version. Specify a dtype explicitly to silence this warning.\n",
      "  report_df = pd.DataFrame(dict([ (k,pd.Series(v)) for k,v in report_dict.items() ]))\n",
      "C:\\Users\\anton\\AppData\\Local\\Temp\\ipykernel_38096\\1531283826.py:72: FutureWarning: The default dtype for empty Series will be 'object' instead of 'float64' in a future version. Specify a dtype explicitly to silence this warning.\n",
      "  report_df = pd.DataFrame(dict([ (k,pd.Series(v)) for k,v in report_dict.items() ]))\n",
      "C:\\Users\\anton\\AppData\\Local\\Temp\\ipykernel_38096\\1531283826.py:72: FutureWarning: The default dtype for empty Series will be 'object' instead of 'float64' in a future version. Specify a dtype explicitly to silence this warning.\n",
      "  report_df = pd.DataFrame(dict([ (k,pd.Series(v)) for k,v in report_dict.items() ]))\n"
     ]
    },
    {
     "name": "stdout",
     "output_type": "stream",
     "text": [
      "gefs.20231111/06/atmos/pgrb2ap5/gec00.t06z.pgrb2a.0p50.f171\n",
      "gefs.20231111/06/atmos/pgrb2ap5/gec00.t06z.pgrb2a.0p50.f174\n",
      "gefs.20231111/06/atmos/pgrb2ap5/gec00.t06z.pgrb2a.0p50.f177\n",
      "gefs.20231111/06/atmos/pgrb2ap5/gec00.t06z.pgrb2a.0p50.f180\n",
      "gefs.20231111/06/atmos/pgrb2ap5/gec00.t06z.pgrb2a.0p50.f183\n",
      "gefs.20231111/06/atmos/pgrb2ap5/gec00.t06z.pgrb2a.0p50.f186\n",
      "gefs.20231111/06/atmos/pgrb2ap5/gec00.t06z.pgrb2a.0p50.f189\n",
      "gefs.20231111/06/atmos/pgrb2ap5/gec00.t06z.pgrb2a.0p50.f192\n"
     ]
    },
    {
     "name": "stderr",
     "output_type": "stream",
     "text": [
      "C:\\Users\\anton\\AppData\\Local\\Temp\\ipykernel_38096\\1531283826.py:72: FutureWarning: The default dtype for empty Series will be 'object' instead of 'float64' in a future version. Specify a dtype explicitly to silence this warning.\n",
      "  report_df = pd.DataFrame(dict([ (k,pd.Series(v)) for k,v in report_dict.items() ]))\n",
      "C:\\Users\\anton\\AppData\\Local\\Temp\\ipykernel_38096\\1531283826.py:72: FutureWarning: The default dtype for empty Series will be 'object' instead of 'float64' in a future version. Specify a dtype explicitly to silence this warning.\n",
      "  report_df = pd.DataFrame(dict([ (k,pd.Series(v)) for k,v in report_dict.items() ]))\n",
      "C:\\Users\\anton\\AppData\\Local\\Temp\\ipykernel_38096\\1531283826.py:72: FutureWarning: The default dtype for empty Series will be 'object' instead of 'float64' in a future version. Specify a dtype explicitly to silence this warning.\n",
      "  report_df = pd.DataFrame(dict([ (k,pd.Series(v)) for k,v in report_dict.items() ]))\n",
      "C:\\Users\\anton\\AppData\\Local\\Temp\\ipykernel_38096\\1531283826.py:72: FutureWarning: The default dtype for empty Series will be 'object' instead of 'float64' in a future version. Specify a dtype explicitly to silence this warning.\n",
      "  report_df = pd.DataFrame(dict([ (k,pd.Series(v)) for k,v in report_dict.items() ]))\n",
      "C:\\Users\\anton\\AppData\\Local\\Temp\\ipykernel_38096\\1531283826.py:72: FutureWarning: The default dtype for empty Series will be 'object' instead of 'float64' in a future version. Specify a dtype explicitly to silence this warning.\n",
      "  report_df = pd.DataFrame(dict([ (k,pd.Series(v)) for k,v in report_dict.items() ]))\n"
     ]
    },
    {
     "name": "stdout",
     "output_type": "stream",
     "text": [
      "gefs.20231111/06/atmos/pgrb2ap5/gec00.t06z.pgrb2a.0p50.f195\n",
      "gefs.20231111/06/atmos/pgrb2ap5/gec00.t06z.pgrb2a.0p50.f198\n",
      "gefs.20231111/06/atmos/pgrb2ap5/gec00.t06z.pgrb2a.0p50.f201\n",
      "gefs.20231111/06/atmos/pgrb2ap5/gec00.t06z.pgrb2a.0p50.f204\n",
      "gefs.20231111/06/atmos/pgrb2ap5/gec00.t06z.pgrb2a.0p50.f207\n",
      "gefs.20231111/06/atmos/pgrb2ap5/gec00.t06z.pgrb2a.0p50.f210\n",
      "gefs.20231111/06/atmos/pgrb2ap5/gec00.t06z.pgrb2a.0p50.f213\n",
      "gefs.20231111/06/atmos/pgrb2ap5/gec00.t06z.pgrb2a.0p50.f216\n"
     ]
    },
    {
     "name": "stderr",
     "output_type": "stream",
     "text": [
      "C:\\Users\\anton\\AppData\\Local\\Temp\\ipykernel_38096\\1531283826.py:72: FutureWarning: The default dtype for empty Series will be 'object' instead of 'float64' in a future version. Specify a dtype explicitly to silence this warning.\n",
      "  report_df = pd.DataFrame(dict([ (k,pd.Series(v)) for k,v in report_dict.items() ]))\n",
      "C:\\Users\\anton\\AppData\\Local\\Temp\\ipykernel_38096\\1531283826.py:72: FutureWarning: The default dtype for empty Series will be 'object' instead of 'float64' in a future version. Specify a dtype explicitly to silence this warning.\n",
      "  report_df = pd.DataFrame(dict([ (k,pd.Series(v)) for k,v in report_dict.items() ]))\n",
      "C:\\Users\\anton\\AppData\\Local\\Temp\\ipykernel_38096\\1531283826.py:72: FutureWarning: The default dtype for empty Series will be 'object' instead of 'float64' in a future version. Specify a dtype explicitly to silence this warning.\n",
      "  report_df = pd.DataFrame(dict([ (k,pd.Series(v)) for k,v in report_dict.items() ]))\n",
      "C:\\Users\\anton\\AppData\\Local\\Temp\\ipykernel_38096\\1531283826.py:72: FutureWarning: The default dtype for empty Series will be 'object' instead of 'float64' in a future version. Specify a dtype explicitly to silence this warning.\n",
      "  report_df = pd.DataFrame(dict([ (k,pd.Series(v)) for k,v in report_dict.items() ]))\n",
      "C:\\Users\\anton\\AppData\\Local\\Temp\\ipykernel_38096\\1531283826.py:72: FutureWarning: The default dtype for empty Series will be 'object' instead of 'float64' in a future version. Specify a dtype explicitly to silence this warning.\n",
      "  report_df = pd.DataFrame(dict([ (k,pd.Series(v)) for k,v in report_dict.items() ]))\n"
     ]
    },
    {
     "name": "stdout",
     "output_type": "stream",
     "text": [
      "gefs.20231111/06/atmos/pgrb2ap5/gec00.t06z.pgrb2a.0p50.f219\n",
      "gefs.20231111/06/atmos/pgrb2ap5/gec00.t06z.pgrb2a.0p50.f222\n",
      "gefs.20231111/06/atmos/pgrb2ap5/gec00.t06z.pgrb2a.0p50.f225\n",
      "gefs.20231111/06/atmos/pgrb2ap5/gec00.t06z.pgrb2a.0p50.f228\n",
      "gefs.20231111/06/atmos/pgrb2ap5/gec00.t06z.pgrb2a.0p50.f231\n",
      "gefs.20231111/06/atmos/pgrb2ap5/gec00.t06z.pgrb2a.0p50.f234\n",
      "gefs.20231111/06/atmos/pgrb2ap5/gec00.t06z.pgrb2a.0p50.f237\n",
      "gefs.20231111/06/atmos/pgrb2ap5/gec00.t06z.pgrb2a.0p50.f240\n"
     ]
    },
    {
     "name": "stderr",
     "output_type": "stream",
     "text": [
      "C:\\Users\\anton\\AppData\\Local\\Temp\\ipykernel_38096\\1531283826.py:72: FutureWarning: The default dtype for empty Series will be 'object' instead of 'float64' in a future version. Specify a dtype explicitly to silence this warning.\n",
      "  report_df = pd.DataFrame(dict([ (k,pd.Series(v)) for k,v in report_dict.items() ]))\n",
      "C:\\Users\\anton\\AppData\\Local\\Temp\\ipykernel_38096\\1531283826.py:72: FutureWarning: The default dtype for empty Series will be 'object' instead of 'float64' in a future version. Specify a dtype explicitly to silence this warning.\n",
      "  report_df = pd.DataFrame(dict([ (k,pd.Series(v)) for k,v in report_dict.items() ]))\n",
      "C:\\Users\\anton\\AppData\\Local\\Temp\\ipykernel_38096\\1531283826.py:72: FutureWarning: The default dtype for empty Series will be 'object' instead of 'float64' in a future version. Specify a dtype explicitly to silence this warning.\n",
      "  report_df = pd.DataFrame(dict([ (k,pd.Series(v)) for k,v in report_dict.items() ]))\n",
      "C:\\Users\\anton\\AppData\\Local\\Temp\\ipykernel_38096\\1531283826.py:72: FutureWarning: The default dtype for empty Series will be 'object' instead of 'float64' in a future version. Specify a dtype explicitly to silence this warning.\n",
      "  report_df = pd.DataFrame(dict([ (k,pd.Series(v)) for k,v in report_dict.items() ]))\n",
      "C:\\Users\\anton\\AppData\\Local\\Temp\\ipykernel_38096\\1531283826.py:72: FutureWarning: The default dtype for empty Series will be 'object' instead of 'float64' in a future version. Specify a dtype explicitly to silence this warning.\n",
      "  report_df = pd.DataFrame(dict([ (k,pd.Series(v)) for k,v in report_dict.items() ]))\n"
     ]
    },
    {
     "name": "stdout",
     "output_type": "stream",
     "text": [
      "gefs.20231111/06/atmos/pgrb2ap5/gec00.t06z.pgrb2a.0p50.f246\n",
      "gefs.20231111/06/atmos/pgrb2ap5/gec00.t06z.pgrb2a.0p50.f252\n",
      "gefs.20231111/06/atmos/pgrb2ap5/gec00.t06z.pgrb2a.0p50.f258\n",
      "gefs.20231111/06/atmos/pgrb2ap5/gec00.t06z.pgrb2a.0p50.f264\n"
     ]
    },
    {
     "name": "stderr",
     "output_type": "stream",
     "text": [
      "C:\\Users\\anton\\AppData\\Local\\Temp\\ipykernel_38096\\1531283826.py:72: FutureWarning: The default dtype for empty Series will be 'object' instead of 'float64' in a future version. Specify a dtype explicitly to silence this warning.\n",
      "  report_df = pd.DataFrame(dict([ (k,pd.Series(v)) for k,v in report_dict.items() ]))\n",
      "C:\\Users\\anton\\AppData\\Local\\Temp\\ipykernel_38096\\1531283826.py:72: FutureWarning: The default dtype for empty Series will be 'object' instead of 'float64' in a future version. Specify a dtype explicitly to silence this warning.\n",
      "  report_df = pd.DataFrame(dict([ (k,pd.Series(v)) for k,v in report_dict.items() ]))\n",
      "C:\\Users\\anton\\AppData\\Local\\Temp\\ipykernel_38096\\1531283826.py:72: FutureWarning: The default dtype for empty Series will be 'object' instead of 'float64' in a future version. Specify a dtype explicitly to silence this warning.\n",
      "  report_df = pd.DataFrame(dict([ (k,pd.Series(v)) for k,v in report_dict.items() ]))\n",
      "C:\\Users\\anton\\AppData\\Local\\Temp\\ipykernel_38096\\1531283826.py:72: FutureWarning: The default dtype for empty Series will be 'object' instead of 'float64' in a future version. Specify a dtype explicitly to silence this warning.\n",
      "  report_df = pd.DataFrame(dict([ (k,pd.Series(v)) for k,v in report_dict.items() ]))\n",
      "C:\\Users\\anton\\AppData\\Local\\Temp\\ipykernel_38096\\1531283826.py:72: FutureWarning: The default dtype for empty Series will be 'object' instead of 'float64' in a future version. Specify a dtype explicitly to silence this warning.\n",
      "  report_df = pd.DataFrame(dict([ (k,pd.Series(v)) for k,v in report_dict.items() ]))\n"
     ]
    },
    {
     "name": "stdout",
     "output_type": "stream",
     "text": [
      "gefs.20231111/06/atmos/pgrb2ap5/gec00.t06z.pgrb2a.0p50.f270\n",
      "gefs.20231111/06/atmos/pgrb2ap5/gec00.t06z.pgrb2a.0p50.f276\n",
      "gefs.20231111/06/atmos/pgrb2ap5/gec00.t06z.pgrb2a.0p50.f282\n",
      "gefs.20231111/06/atmos/pgrb2ap5/gec00.t06z.pgrb2a.0p50.f288\n"
     ]
    },
    {
     "name": "stderr",
     "output_type": "stream",
     "text": [
      "C:\\Users\\anton\\AppData\\Local\\Temp\\ipykernel_38096\\1531283826.py:72: FutureWarning: The default dtype for empty Series will be 'object' instead of 'float64' in a future version. Specify a dtype explicitly to silence this warning.\n",
      "  report_df = pd.DataFrame(dict([ (k,pd.Series(v)) for k,v in report_dict.items() ]))\n",
      "C:\\Users\\anton\\AppData\\Local\\Temp\\ipykernel_38096\\1531283826.py:72: FutureWarning: The default dtype for empty Series will be 'object' instead of 'float64' in a future version. Specify a dtype explicitly to silence this warning.\n",
      "  report_df = pd.DataFrame(dict([ (k,pd.Series(v)) for k,v in report_dict.items() ]))\n",
      "C:\\Users\\anton\\AppData\\Local\\Temp\\ipykernel_38096\\1531283826.py:72: FutureWarning: The default dtype for empty Series will be 'object' instead of 'float64' in a future version. Specify a dtype explicitly to silence this warning.\n",
      "  report_df = pd.DataFrame(dict([ (k,pd.Series(v)) for k,v in report_dict.items() ]))\n",
      "C:\\Users\\anton\\AppData\\Local\\Temp\\ipykernel_38096\\1531283826.py:72: FutureWarning: The default dtype for empty Series will be 'object' instead of 'float64' in a future version. Specify a dtype explicitly to silence this warning.\n",
      "  report_df = pd.DataFrame(dict([ (k,pd.Series(v)) for k,v in report_dict.items() ]))\n",
      "C:\\Users\\anton\\AppData\\Local\\Temp\\ipykernel_38096\\1531283826.py:72: FutureWarning: The default dtype for empty Series will be 'object' instead of 'float64' in a future version. Specify a dtype explicitly to silence this warning.\n",
      "  report_df = pd.DataFrame(dict([ (k,pd.Series(v)) for k,v in report_dict.items() ]))\n"
     ]
    },
    {
     "name": "stdout",
     "output_type": "stream",
     "text": [
      "gefs.20231111/06/atmos/pgrb2ap5/gec00.t06z.pgrb2a.0p50.f294\n",
      "gefs.20231111/06/atmos/pgrb2ap5/gec00.t06z.pgrb2a.0p50.f300\n",
      "gefs.20231111/06/atmos/pgrb2ap5/gec00.t06z.pgrb2a.0p50.f306\n",
      "gefs.20231111/06/atmos/pgrb2ap5/gec00.t06z.pgrb2a.0p50.f312\n"
     ]
    },
    {
     "name": "stderr",
     "output_type": "stream",
     "text": [
      "C:\\Users\\anton\\AppData\\Local\\Temp\\ipykernel_38096\\1531283826.py:72: FutureWarning: The default dtype for empty Series will be 'object' instead of 'float64' in a future version. Specify a dtype explicitly to silence this warning.\n",
      "  report_df = pd.DataFrame(dict([ (k,pd.Series(v)) for k,v in report_dict.items() ]))\n",
      "C:\\Users\\anton\\AppData\\Local\\Temp\\ipykernel_38096\\1531283826.py:72: FutureWarning: The default dtype for empty Series will be 'object' instead of 'float64' in a future version. Specify a dtype explicitly to silence this warning.\n",
      "  report_df = pd.DataFrame(dict([ (k,pd.Series(v)) for k,v in report_dict.items() ]))\n",
      "C:\\Users\\anton\\AppData\\Local\\Temp\\ipykernel_38096\\1531283826.py:72: FutureWarning: The default dtype for empty Series will be 'object' instead of 'float64' in a future version. Specify a dtype explicitly to silence this warning.\n",
      "  report_df = pd.DataFrame(dict([ (k,pd.Series(v)) for k,v in report_dict.items() ]))\n",
      "C:\\Users\\anton\\AppData\\Local\\Temp\\ipykernel_38096\\1531283826.py:72: FutureWarning: The default dtype for empty Series will be 'object' instead of 'float64' in a future version. Specify a dtype explicitly to silence this warning.\n",
      "  report_df = pd.DataFrame(dict([ (k,pd.Series(v)) for k,v in report_dict.items() ]))\n",
      "C:\\Users\\anton\\AppData\\Local\\Temp\\ipykernel_38096\\1531283826.py:72: FutureWarning: The default dtype for empty Series will be 'object' instead of 'float64' in a future version. Specify a dtype explicitly to silence this warning.\n",
      "  report_df = pd.DataFrame(dict([ (k,pd.Series(v)) for k,v in report_dict.items() ]))\n"
     ]
    },
    {
     "name": "stdout",
     "output_type": "stream",
     "text": [
      "gefs.20231111/06/atmos/pgrb2ap5/gec00.t06z.pgrb2a.0p50.f318\n",
      "gefs.20231111/06/atmos/pgrb2ap5/gec00.t06z.pgrb2a.0p50.f324\n",
      "gefs.20231111/06/atmos/pgrb2ap5/gec00.t06z.pgrb2a.0p50.f330\n",
      "gefs.20231111/06/atmos/pgrb2ap5/gec00.t06z.pgrb2a.0p50.f336\n"
     ]
    },
    {
     "name": "stderr",
     "output_type": "stream",
     "text": [
      "C:\\Users\\anton\\AppData\\Local\\Temp\\ipykernel_38096\\1531283826.py:72: FutureWarning: The default dtype for empty Series will be 'object' instead of 'float64' in a future version. Specify a dtype explicitly to silence this warning.\n",
      "  report_df = pd.DataFrame(dict([ (k,pd.Series(v)) for k,v in report_dict.items() ]))\n",
      "C:\\Users\\anton\\AppData\\Local\\Temp\\ipykernel_38096\\1531283826.py:72: FutureWarning: The default dtype for empty Series will be 'object' instead of 'float64' in a future version. Specify a dtype explicitly to silence this warning.\n",
      "  report_df = pd.DataFrame(dict([ (k,pd.Series(v)) for k,v in report_dict.items() ]))\n",
      "C:\\Users\\anton\\AppData\\Local\\Temp\\ipykernel_38096\\1531283826.py:72: FutureWarning: The default dtype for empty Series will be 'object' instead of 'float64' in a future version. Specify a dtype explicitly to silence this warning.\n",
      "  report_df = pd.DataFrame(dict([ (k,pd.Series(v)) for k,v in report_dict.items() ]))\n",
      "C:\\Users\\anton\\AppData\\Local\\Temp\\ipykernel_38096\\1531283826.py:72: FutureWarning: The default dtype for empty Series will be 'object' instead of 'float64' in a future version. Specify a dtype explicitly to silence this warning.\n",
      "  report_df = pd.DataFrame(dict([ (k,pd.Series(v)) for k,v in report_dict.items() ]))\n",
      "C:\\Users\\anton\\AppData\\Local\\Temp\\ipykernel_38096\\1531283826.py:72: FutureWarning: The default dtype for empty Series will be 'object' instead of 'float64' in a future version. Specify a dtype explicitly to silence this warning.\n",
      "  report_df = pd.DataFrame(dict([ (k,pd.Series(v)) for k,v in report_dict.items() ]))\n"
     ]
    },
    {
     "name": "stdout",
     "output_type": "stream",
     "text": [
      "gefs.20231111/06/atmos/pgrb2ap5/gec00.t06z.pgrb2a.0p50.f342\n",
      "gefs.20231111/06/atmos/pgrb2ap5/gec00.t06z.pgrb2a.0p50.f348\n",
      "gefs.20231111/06/atmos/pgrb2ap5/gec00.t06z.pgrb2a.0p50.f354\n",
      "gefs.20231111/06/atmos/pgrb2ap5/gec00.t06z.pgrb2a.0p50.f360\n"
     ]
    },
    {
     "name": "stderr",
     "output_type": "stream",
     "text": [
      "C:\\Users\\anton\\AppData\\Local\\Temp\\ipykernel_38096\\1531283826.py:72: FutureWarning: The default dtype for empty Series will be 'object' instead of 'float64' in a future version. Specify a dtype explicitly to silence this warning.\n",
      "  report_df = pd.DataFrame(dict([ (k,pd.Series(v)) for k,v in report_dict.items() ]))\n",
      "C:\\Users\\anton\\AppData\\Local\\Temp\\ipykernel_38096\\1531283826.py:72: FutureWarning: The default dtype for empty Series will be 'object' instead of 'float64' in a future version. Specify a dtype explicitly to silence this warning.\n",
      "  report_df = pd.DataFrame(dict([ (k,pd.Series(v)) for k,v in report_dict.items() ]))\n",
      "C:\\Users\\anton\\AppData\\Local\\Temp\\ipykernel_38096\\1531283826.py:72: FutureWarning: The default dtype for empty Series will be 'object' instead of 'float64' in a future version. Specify a dtype explicitly to silence this warning.\n",
      "  report_df = pd.DataFrame(dict([ (k,pd.Series(v)) for k,v in report_dict.items() ]))\n",
      "C:\\Users\\anton\\AppData\\Local\\Temp\\ipykernel_38096\\1531283826.py:72: FutureWarning: The default dtype for empty Series will be 'object' instead of 'float64' in a future version. Specify a dtype explicitly to silence this warning.\n",
      "  report_df = pd.DataFrame(dict([ (k,pd.Series(v)) for k,v in report_dict.items() ]))\n",
      "C:\\Users\\anton\\AppData\\Local\\Temp\\ipykernel_38096\\1531283826.py:72: FutureWarning: The default dtype for empty Series will be 'object' instead of 'float64' in a future version. Specify a dtype explicitly to silence this warning.\n",
      "  report_df = pd.DataFrame(dict([ (k,pd.Series(v)) for k,v in report_dict.items() ]))\n"
     ]
    },
    {
     "name": "stdout",
     "output_type": "stream",
     "text": [
      "gefs.20231111/06/atmos/pgrb2ap5/gec00.t06z.pgrb2a.0p50.f366\n",
      "gefs.20231111/06/atmos/pgrb2ap5/gec00.t06z.pgrb2a.0p50.f372\n",
      "gefs.20231111/06/atmos/pgrb2ap5/gec00.t06z.pgrb2a.0p50.f378\n",
      "gefs.20231111/06/atmos/pgrb2ap5/gec00.t06z.pgrb2a.0p50.f384\n"
     ]
    },
    {
     "name": "stderr",
     "output_type": "stream",
     "text": [
      "C:\\Users\\anton\\AppData\\Local\\Temp\\ipykernel_38096\\1531283826.py:72: FutureWarning: The default dtype for empty Series will be 'object' instead of 'float64' in a future version. Specify a dtype explicitly to silence this warning.\n",
      "  report_df = pd.DataFrame(dict([ (k,pd.Series(v)) for k,v in report_dict.items() ]))\n",
      "C:\\Users\\anton\\AppData\\Local\\Temp\\ipykernel_38096\\1531283826.py:72: FutureWarning: The default dtype for empty Series will be 'object' instead of 'float64' in a future version. Specify a dtype explicitly to silence this warning.\n",
      "  report_df = pd.DataFrame(dict([ (k,pd.Series(v)) for k,v in report_dict.items() ]))\n",
      "C:\\Users\\anton\\AppData\\Local\\Temp\\ipykernel_38096\\1531283826.py:72: FutureWarning: The default dtype for empty Series will be 'object' instead of 'float64' in a future version. Specify a dtype explicitly to silence this warning.\n",
      "  report_df = pd.DataFrame(dict([ (k,pd.Series(v)) for k,v in report_dict.items() ]))\n",
      "C:\\Users\\anton\\AppData\\Local\\Temp\\ipykernel_38096\\1531283826.py:72: FutureWarning: The default dtype for empty Series will be 'object' instead of 'float64' in a future version. Specify a dtype explicitly to silence this warning.\n",
      "  report_df = pd.DataFrame(dict([ (k,pd.Series(v)) for k,v in report_dict.items() ]))\n",
      "C:\\Users\\anton\\AppData\\Local\\Temp\\ipykernel_38096\\1531283826.py:72: FutureWarning: The default dtype for empty Series will be 'object' instead of 'float64' in a future version. Specify a dtype explicitly to silence this warning.\n",
      "  report_df = pd.DataFrame(dict([ (k,pd.Series(v)) for k,v in report_dict.items() ]))\n"
     ]
    }
   ],
   "source": [
    "import boto3\n",
    "from botocore import UNSIGNED\n",
    "from botocore.client import Config\n",
    "from datetime import datetime, date\n",
    "import time\n",
    "import pygrib\n",
    "import pandas as pd\n",
    "from dateutil.relativedelta import relativedelta\n",
    "import os\n",
    "\n",
    "last_report_fn = os.listdir('./reports')[0]\n",
    "ct_df = pd.read_csv(\"usregions.csv\")[:30000]\n",
    "lls = list(zip(ct_df['lat'], ct_df['lng']))\n",
    "last_report = pd.read_csv(f\"./reports/{last_report_fn}\").to_dict()\n",
    "report_dict = {\n",
    "        \"Date\": [(date.today()+relativedelta(days=i)).strftime(\"%a, %d %b %Y\") for i in range(16)],\n",
    "        \"Current FC\": [],\n",
    "        \"FC 6 hours ago\": last_report['Current FC'],\n",
    "        \"FC 12 hours ago\": last_report['FC 6 hours ago'],\n",
    "        \"FC 18 hours ago\": last_report['FC 12 hours ago'],\n",
    "        \"FC 24 hours ago\": last_report['FC 18 hours ago'],\n",
    "        \"Diff 12 hours ago\": [],\n",
    "        \"Diff 24 hours ago\": []\n",
    "    }\n",
    "dt = datetime.now()\n",
    "file_dt = \"\".join(list(map(str,[dt.year,dt.month,f\"{dt.day:02d}\"])))\n",
    "\n",
    "client = boto3.client('s3', config=Config(signature_version=UNSIGNED))\n",
    "bucket = client.list_objects(Bucket='noaa-gefs-pds', Prefix = \"gefs.\"+file_dt+\"/\", Delimiter=\"/\",)\n",
    "\n",
    "while True:\n",
    "    if bucket.get('CommonPrefixes') is not None:\n",
    "        fldr = bucket.get('CommonPrefixes')[-1].get('Prefix')\n",
    "        break\n",
    "    else:\n",
    "        time.sleep(300)\n",
    "\n",
    "cycle = fldr.split('/')[-2]\n",
    "base = f'{fldr[:-1]}/atmos/pgrb2ap5/gec00.t{cycle}z.pgrb2a.0p50.f'\n",
    "files = []\n",
    "for i in range(0,243,3):\n",
    "    files.append(base+f\"{i:03d}\")\n",
    "for i in range(246,390,6):\n",
    "    files.append(base+f\"{i}\")\n",
    "\n",
    "\n",
    "def process(file, cycle):\n",
    "    grbs = pygrib.open(file)\n",
    "    grb = grbs.select(name='Temperature')[-1]\n",
    "    data = grb.data()[0]\n",
    "    \n",
    "    def f(lat, lon):\n",
    "        return round(abs(data[int(round(-2*lat)+180),int(round(2*lon))]*1.8-459.67-65),2)\n",
    "    \n",
    "    ct_df['dd_'+cycle] = [f(lat, lon) for lat,lon in lls]\n",
    "    \n",
    "    grbs.close()\n",
    "def _to_state(x):\n",
    "    return pd.Series({'dd':(x['population'] * x['dd']/x['population'].sum()).sum(),'population': x['population'].sum()})\n",
    "def _to_region(x):\n",
    "    return pd.Series({'dd':(x['population'] * x['dd']/x['population'].sum()).sum(),'population': x['population'].sum()})\n",
    "while files:\n",
    "    idx = int(files[0].split(\".\")[-1][-3:])\n",
    "\n",
    "    print(files[0])\n",
    "    try:\n",
    "        if idx%24==0 and idx>0:\n",
    "            ct_df['dd'] = (ct_df['dd_00']+ct_df['dd_03']+ct_df['dd_06']+ct_df['dd_09']+ct_df['dd_12']+ct_df['dd_15']+ct_df['dd_18']+ct_df['dd_21'])/8\n",
    "            state_df = ct_df.groupby(['state_name','region'])[['population', 'dd']].apply(_to_state).reset_index()\n",
    "            region_df = state_df.groupby(['region'])[['population','dd']].apply(_to_region).reset_index()\n",
    "            national_dd = round((region_df['population']*region_df['dd']).sum()/region_df['population'].sum(),2)\n",
    "            report_dict['Current FC'].append(national_dd)\n",
    "            \n",
    "            report_df = pd.DataFrame(dict([ (k,pd.Series(v,dtype=pd.Float32Dtype)) for k,v in report_dict.items() ]))\n",
    "            report_df['Diff 12 hours ago'] = report_df['Current FC']-report_df['FC 12 hours ago']\n",
    "            report_df['Diff 24 hours ago'] = report_df['Current FC']-report_df['FC 24 hours ago']\n",
    "            report_df['Diff 12 hours ago'].round(2)\n",
    "            report_df['Diff 24 hours ago'].round(2)\n",
    "            report_df.to_csv(f'reports/report_{str(date.today())}_{cycle}', index=False)\n",
    "        client.download_file('noaa-gefs-pds', files[0], 'temp')\n",
    "        process('temp', f\"{idx%24:02d}\")\n",
    "        \n",
    "    except Exception as e:\n",
    "        print(e)\n",
    "        # time.sleep(60)\n",
    "        break\n",
    "    del files[0]\n",
    "\n",
    "    \n"
   ]
  },
  {
   "cell_type": "code",
   "execution_count": 33,
   "metadata": {},
   "outputs": [
    {
     "data": {
      "text/plain": [
       "['.git',\n",
       " 'front.py',\n",
       " 'report.csv',\n",
       " 'report_2023-11-11_06',\n",
       " 'temp',\n",
       " 'test.ipynb',\n",
       " 'uscities.csv',\n",
       " 'usregions.csv']"
      ]
     },
     "execution_count": 33,
     "metadata": {},
     "output_type": "execute_result"
    }
   ],
   "source": []
  },
  {
   "cell_type": "code",
   "execution_count": 21,
   "metadata": {},
   "outputs": [],
   "source": [
    "ct_df = pd.read_csv(\"uscities.csv\")\n",
    "states_to_regions = {\"Washington\": \"Pacific\", \"Oregon\":\"Pacific\",\"California\":\"Pacific\",\"Nevada\":\"Mountain\",\"Wyoming\":\"Mountain\",\"Arizona\":\"Mountain\",\"Montana\":\"Mountain\",\"Idaho\":\"Mountain\",\"Utah\":\"Mountain\",\"Colorado\":\"Mountain\",\"New Mexico\":\"Mountain\",\"North Dakota\":\"Midwest\",\"South Dakota\":\"Midwest\",\"Nebraska\":\"Midwest\",\"Kansas\":\"Midwest\",\"Minnesota\":\"Midwest\",\"Iowa\":\"Midwest\",\"Missouri\":\"Midwest\",\"Wisconsin\":\"Midwest\",\"Michigan\":\"Midwest\",\"Illinois\":\"Midwest\",\"Indiana\":\"Midwest\",\"Ohio\":\"Midwest\",\"New York\":\"Northeast\",\"Pennsylvania\":\"Northeast\",\"New Jersey\":\"Northeast\",\"Vermont\":\"Northeast\",\"New Hampshire\":\"Northeast\",\"Maine\":\"Northeast\",\"Massachusetts\":\"Northeast\",\"Rhode Island\":\"Northeast\",\"Connecticut\":\"Northeast\",\"Texas\":\"South\",\"Oklahoma\":\"South\",\"Arkansas\":\"South\",\"Louisiana\":\"South\",\"North Carolina\":\"South\",\"South Carolina\":\"South\",\"Florida\":\"South\",\"Georgia\":\"South\",\"West Virginia\":\"South\",\"Virginia\":\"South\",\"Delaware\":\"South\",\"Maryland\":\"South\",\"Tennessee\":\"South\",\"Mississippi\":\"South\",\"Alabama\":\"South\",\"Kentucky\":\"South\",\"District of Columbia\":\"South\",\"Puerto Rico\":\"lol\",\"Hawaii\":\"lol\",\"Alaska\":\"lol\"}\n"
   ]
  },
  {
   "cell_type": "code",
   "execution_count": 22,
   "metadata": {},
   "outputs": [],
   "source": [
    "ct_df[\"region\"] =[states_to_regions[x] for x in ct_df[\"state_name\"]]\n",
    "\n",
    "ct_df.drop(ct_df[ct_df[\"region\"]==\"lol\"].index, inplace=True)"
   ]
  },
  {
   "cell_type": "code",
   "execution_count": 23,
   "metadata": {},
   "outputs": [],
   "source": [
    "ct_df.to_csv(\"usregions.csv\")"
   ]
  },
  {
   "cell_type": "code",
   "execution_count": 10,
   "metadata": {},
   "outputs": [
    {
     "data": {
      "text/html": [
       "<div>\n",
       "<style scoped>\n",
       "    .dataframe tbody tr th:only-of-type {\n",
       "        vertical-align: middle;\n",
       "    }\n",
       "\n",
       "    .dataframe tbody tr th {\n",
       "        vertical-align: top;\n",
       "    }\n",
       "\n",
       "    .dataframe thead th {\n",
       "        text-align: right;\n",
       "    }\n",
       "</style>\n",
       "<table border=\"1\" class=\"dataframe\">\n",
       "  <thead>\n",
       "    <tr style=\"text-align: right;\">\n",
       "      <th></th>\n",
       "      <th>Unnamed: 0</th>\n",
       "      <th>Date</th>\n",
       "      <th>Current FC</th>\n",
       "      <th>FC 6 hours ago</th>\n",
       "      <th>FC 12 hours ago</th>\n",
       "      <th>FC 18 hours ago</th>\n",
       "      <th>FC 24 hours ago</th>\n",
       "      <th>Diff 12 hours ago</th>\n",
       "      <th>Diff 24 hours ago</th>\n",
       "    </tr>\n",
       "  </thead>\n",
       "  <tbody>\n",
       "  </tbody>\n",
       "</table>\n",
       "</div>"
      ],
      "text/plain": [
       "Empty DataFrame\n",
       "Columns: [Unnamed: 0, Date, Current FC, FC 6 hours ago, FC 12 hours ago, FC 18 hours ago, FC 24 hours ago, Diff 12 hours ago, Diff 24 hours ago]\n",
       "Index: []"
      ]
     },
     "execution_count": 10,
     "metadata": {},
     "output_type": "execute_result"
    }
   ],
   "source": [
    "df = pd.read_csv('report.csv')\n",
    "df"
   ]
  },
  {
   "cell_type": "code",
   "execution_count": 12,
   "metadata": {},
   "outputs": [
    {
     "name": "stdout",
     "output_type": "stream",
     "text": [
      "Updated CSV file. Iteration 1 / 10\n",
      "Updated CSV file. Iteration 2 / 10\n",
      "Updated CSV file. Iteration 3 / 10\n",
      "Updated CSV file. Iteration 4 / 10\n",
      "Updated CSV file. Iteration 5 / 10\n",
      "Updated CSV file. Iteration 6 / 10\n"
     ]
    },
    {
     "ename": "KeyboardInterrupt",
     "evalue": "",
     "output_type": "error",
     "traceback": [
      "\u001b[0;31m---------------------------------------------------------------------------\u001b[0m",
      "\u001b[0;31mKeyboardInterrupt\u001b[0m                         Traceback (most recent call last)",
      "\u001b[1;32m/Users/athirahhazwaniabdulhalim/Study/Weather-Processor/test.ipynb Cell 7\u001b[0m line \u001b[0;36m4\n\u001b[1;32m     <a href='vscode-notebook-cell:/Users/athirahhazwaniabdulhalim/Study/Weather-Processor/test.ipynb#X55sZmlsZQ%3D%3D?line=38'>39</a>\u001b[0m \u001b[39mprint\u001b[39m(\u001b[39mf\u001b[39m\u001b[39m\"\u001b[39m\u001b[39mUpdated CSV file. Iteration \u001b[39m\u001b[39m{\u001b[39;00mi\u001b[39m \u001b[39m\u001b[39m+\u001b[39m\u001b[39m \u001b[39m\u001b[39m1\u001b[39m\u001b[39m}\u001b[39;00m\u001b[39m / \u001b[39m\u001b[39m{\u001b[39;00mnum_iterations\u001b[39m}\u001b[39;00m\u001b[39m\"\u001b[39m)\n\u001b[1;32m     <a href='vscode-notebook-cell:/Users/athirahhazwaniabdulhalim/Study/Weather-Processor/test.ipynb#X55sZmlsZQ%3D%3D?line=40'>41</a>\u001b[0m \u001b[39m# Wait for 1 minute before the next update\u001b[39;00m\n\u001b[0;32m---> <a href='vscode-notebook-cell:/Users/athirahhazwaniabdulhalim/Study/Weather-Processor/test.ipynb#X55sZmlsZQ%3D%3D?line=41'>42</a>\u001b[0m time\u001b[39m.\u001b[39;49msleep(\u001b[39m30\u001b[39;49m)\n",
      "\u001b[0;31mKeyboardInterrupt\u001b[0m: "
     ]
    }
   ],
   "source": [
    "import pandas as pd\n",
    "from datetime import datetime, timedelta\n",
    "import random\n",
    "import time\n",
    "\n",
    "# Function to generate a random DataFrame row\n",
    "def generate_random_row():\n",
    "    current_time = datetime.now()\n",
    "    random_values = [random.randint(1, 100) for _ in range(7)]  # Assuming 7 columns with random integer values\n",
    "    return pd.DataFrame([{\n",
    "        \"Unnamed: 0\": None,\n",
    "        \"Date\": current_time.strftime(\"%Y-%m-%d %H:%M:%S\"),\n",
    "        \"Current FC\": random_values[0],\n",
    "        \"FC 6 hours ago\": random_values[1],\n",
    "        \"FC 12 hours ago\": random_values[2],\n",
    "        \"FC 18 hours ago\": random_values[3],\n",
    "        \"FC 24 hours ago\": random_values[4],\n",
    "        \"Diff 12 hours ago\": random_values[5],\n",
    "        \"Diff 24 hours ago\": random_values[6]\n",
    "    }])\n",
    "\n",
    "# Path to the CSV file\n",
    "csv_file_path = 'report.csv'\n",
    "\n",
    "# Number of iterations (updates)\n",
    "num_iterations = 10  # Change this number as needed\n",
    "\n",
    "for i in range(num_iterations):\n",
    "    # Read the existing DataFrame from the CSV file\n",
    "    df = pd.read_csv(csv_file_path)\n",
    "\n",
    "    # Generate a random row and append it to the DataFrame\n",
    "    new_row = generate_random_row()\n",
    "    df = pd.concat([df, new_row], ignore_index=True)\n",
    "\n",
    "    # Save the updated DataFrame back to the CSV file\n",
    "    df.to_csv(csv_file_path, index=False)\n",
    "\n",
    "    print(f\"Updated CSV file. Iteration {i + 1} / {num_iterations}\")\n",
    "\n",
    "    # Wait for 1 minute before the next update\n",
    "    time.sleep(30)\n"
   ]
  }
 ],
 "metadata": {
  "kernelspec": {
   "display_name": "tf2",
   "language": "python",
   "name": "python3"
  },
  "language_info": {
   "codemirror_mode": {
    "name": "ipython",
    "version": 3
   },
   "file_extension": ".py",
   "mimetype": "text/x-python",
   "name": "python",
   "nbconvert_exporter": "python",
   "pygments_lexer": "ipython3",
   "version": "3.8.18"
  }
 },
 "nbformat": 4,
 "nbformat_minor": 2
}
